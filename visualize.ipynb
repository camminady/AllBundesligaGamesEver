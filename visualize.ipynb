{
 "cells": [
  {
   "cell_type": "code",
   "execution_count": null,
   "metadata": {},
   "outputs": [],
   "source": [
    "import pandas as pd \n",
    "import numpy as np\n",
    "from tabulate import tabulate\n",
    "import matplotlib.pyplot as plt "
   ]
  },
  {
   "cell_type": "code",
   "execution_count": null,
   "metadata": {},
   "outputs": [],
   "source": [
    "df = pd.read_csv(\"_AllBundesligaGamesEver.csv\",sep=\";\")\n",
    "df = df[df[\"League\"] == \"1. Bundesliga\"]\n",
    "unique, frequency = np.unique(df.Score90.values,  \n",
    "                              return_counts = True) \n",
    "n = 13\n",
    "#unique = unique[:-1]\n",
    "count = np.zeros((n,n))\n",
    "for r,c in zip(unique,frequency):\n",
    "    j = int(r.split(\":\")[0])\n",
    "    i = int(r.split(\":\")[1])\n",
    "    count[i,j] = c\n",
    "    \n",
    "plt.style.use(\"kitishnotex\")\n",
    "fig, ax = plt.subplots(figsize =(5,5*10/12),constrained_layout=True,facecolor = \"w\")\n",
    "\n",
    "percentage = count/np.sum(count)*100\n",
    "dark = (0.3,0.3,0.3)\n",
    "\n",
    "plt.pcolormesh(np.log10(percentage),cmap = \"inferno\")\n",
    "ax.set_xticks(0.5+np.arange(n))\n",
    "ax.set_xticklabels(np.arange(n), color = dark)\n",
    "ax.set_xlim([0,13])\n",
    "ax.set_yticks(0.5+np.arange(n))\n",
    "ax.set_yticklabels(np.arange(n), color = dark)\n",
    "ax.set_ylim([0,10])\n",
    "ax.set_xlabel(\"Goals by home team\",color = dark)\n",
    "ax.set_ylabel(\"Goals by guest team\",color = dark)\n",
    "\n",
    "for i in range(n):\n",
    "    for j in range(n):\n",
    "        c = np.round(percentage[i,j],1)\n",
    "        if percentage[i,j]>0:\n",
    "            if c < 3:\n",
    "                col = \"whitesmoke\"\n",
    "            else:\n",
    "                col = dark\n",
    "            if c<=0.1:\n",
    "                ax.text(j+0.5,i+0.5,str(int(count[i,j]))+\"\\n\"+\"<0.1%\",va = \"center\",ha=\"center\",\n",
    "                   fontsize = 6,color = col)\n",
    "            \n",
    "            else:\n",
    "                ax.text(j+0.5,i+0.5,str(int(count[i,j]))+\"\\n\"+str(c)+\"%\",va = \"center\",ha=\"center\",\n",
    "                   fontsize = 6,color = col)\n",
    "            \n",
    "for i in range(n):\n",
    "    ax.axvline(i,c=\"w\",lw = 1)\n",
    "    ax.axhline(i,c=\"w\",lw = 1)\n",
    "ax.spines['left'].set_visible(False)\n",
    "ax.spines['bottom'].set_visible(False)\n",
    "ax.tick_params(axis=u'both', which=u'both',length=0)\n",
    "ax.set_title(\"Bundesliga final scores\\nand how often they occurred\",color = dark,fontsize = 14)\n",
    "ax.text(12,4,\"\"\"Author: Thomas Camminady, @camminady\\nData: github.com/camminady/AllBundesligaGamesEver\\nGermany's \"1. Bundesliga\" from 1963 through 2020.\\nColor is log-scaled.\"\"\",rotation = 90,va=\"bottom\",fontsize = 4,color=dark)\n",
    "plt.savefig(\"ScoreboardPercentage.png\",dpi=400)"
   ]
  },
  {
   "cell_type": "code",
   "execution_count": null,
   "metadata": {},
   "outputs": [],
   "source": []
  }
 ],
 "metadata": {
  "kernelspec": {
   "display_name": "Python (scientific38 v2)",
   "language": "python",
   "name": "scientific38"
  },
  "language_info": {
   "codemirror_mode": {
    "name": "ipython",
    "version": 3
   },
   "file_extension": ".py",
   "mimetype": "text/x-python",
   "name": "python",
   "nbconvert_exporter": "python",
   "pygments_lexer": "ipython3",
   "version": "3.8.6"
  },
  "nteract": {
   "version": "0.26.0"
  }
 },
 "nbformat": 4,
 "nbformat_minor": 4
}
